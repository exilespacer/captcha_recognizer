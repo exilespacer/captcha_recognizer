{
 "cells": [
  {
   "cell_type": "code",
   "execution_count": 1,
   "metadata": {},
   "outputs": [],
   "source": [
    "%matplotlib inline"
   ]
  },
  {
   "cell_type": "code",
   "execution_count": 2,
   "metadata": {},
   "outputs": [],
   "source": [
    "import config as cfg\n",
    "# import os\n",
    "# os.environ['KERAS_BACKEND'] = 'tensorflow'"
   ]
  },
  {
   "cell_type": "code",
   "execution_count": 3,
   "metadata": {},
   "outputs": [],
   "source": [
    "import os\n",
    "import matplotlib.pylab as plt\n",
    "import matplotlib.image as mpimg\n",
    "import numpy as np\n",
    "\n",
    "from sklearn.model_selection import train_test_split\n",
    "from sklearn.preprocessing import OneHotEncoder\n"
   ]
  },
  {
   "cell_type": "code",
   "execution_count": 4,
   "metadata": {},
   "outputs": [],
   "source": [
    "from keras.models import Sequential\n",
    "from keras.layers import Dense, Dropout, Activation, Flatten\n",
    "from keras.layers import Convolution2D, MaxPooling2D, Conv2D\n",
    "from keras.optimizers import SGD\n",
    "from keras.models import model_from_json\n",
    "from keras.utils import np_utils"
   ]
  },
  {
   "cell_type": "code",
   "execution_count": 5,
   "metadata": {},
   "outputs": [],
   "source": [
    "def preprocess(img_orig, digit=6):\n",
    "    new_width = img_orig.shape[1]//digit\n",
    "    img_orig = img_orig[:, :new_width*digit, :]/ 255\n",
    "    imgs = img_orig.reshape(img_orig.shape[0], digit, new_width, img_orig.shape[2])\n",
    "    imgs = [imgs[:, idx, :, :] for idx in range(digit)]\n",
    "    return imgs"
   ]
  },
  {
   "cell_type": "code",
   "execution_count": null,
   "metadata": {},
   "outputs": [],
   "source": [
    "digit = cfg.DIGIT_CAPTCHA\n",
    "fname_model = cfg.PATH_CNN_MODEL\n",
    "fname_weights = cfg.PATH_CNN_WEIGHTS\n",
    "dirname = 'img/'"
   ]
  },
  {
   "cell_type": "code",
   "execution_count": 6,
   "metadata": {},
   "outputs": [],
   "source": [
    "files = [f for f in os.listdir(dirname) if not f.startswith('img') and f.endswith('.png')]\n",
    "\n",
    "y_ = []\n",
    "X = []\n",
    "for idx, file in enumerate(files):\n",
    "    suby = list(file[:6])\n",
    "    subx = preprocess(mpimg.imread(f'{dirname}/{file}', 0), digit)\n",
    "    y_ += suby\n",
    "    X += subx\n",
    "\n",
    "y_ = np.array(y_).reshape(len(y_), 1).astype(int)\n",
    "X = np.array(X)\n",
    "    \n",
    "# One Hot encode the class labels\n",
    "encoder = OneHotEncoder(sparse=False, categories='auto')\n",
    "y = encoder.fit_transform(y_)\n",
    "#print(y)\n",
    "\n",
    "# Split the data for training and testing\n",
    "X_train, X_test, Y_train, Y_test = train_test_split(X, y, test_size=0.20)"
   ]
  },
  {
   "cell_type": "markdown",
   "metadata": {},
   "source": [
    "reference: https://gist.github.com/NiharG15/cd8272c9639941cf8f481a7c4478d525"
   ]
  },
  {
   "cell_type": "code",
   "execution_count": 7,
   "metadata": {},
   "outputs": [],
   "source": [
    "img_channels = X.shape[3]\n",
    "img_rows = X.shape[1]\n",
    "img_cols = X.shape[2]\n",
    "batch_size = 32\n",
    "nb_classes = 10\n",
    "nb_epoch = 50\n",
    "\n",
    "model = Sequential()\n",
    "\n",
    "model.add(Conv2D(32, (3, 3), padding='same',\n",
    "                        input_shape=(img_rows, img_cols, img_channels)))\n",
    "model.add(Activation('relu'))\n",
    "model.add(Conv2D(32, (3, 3)))\n",
    "model.add(Activation('relu'))\n",
    "model.add(MaxPooling2D(pool_size=(2, 2)))\n",
    "model.add(Dropout(0.25))\n",
    "\n",
    "model.add(Conv2D(64, (3, 3), padding='same'))\n",
    "model.add(Activation('relu'))\n",
    "model.add(Conv2D(64, (3, 3)))\n",
    "model.add(Activation('relu'))\n",
    "model.add(MaxPooling2D(pool_size=(2, 2)))\n",
    "model.add(Dropout(0.25))\n",
    "\n",
    "model.add(Flatten())\n",
    "model.add(Dense(512))\n",
    "model.add(Activation('relu'))\n",
    "model.add(Dropout(0.5))# prevent overfitting\n",
    "model.add(Dense(nb_classes))\n",
    "model.add(Activation('softmax'))"
   ]
  },
  {
   "cell_type": "code",
   "execution_count": 17,
   "metadata": {},
   "outputs": [
    {
     "name": "stdout",
     "output_type": "stream",
     "text": [
      "Neural Network Model Summary: \n",
      "Model: \"sequential_1\"\n",
      "_________________________________________________________________\n",
      "Layer (type)                 Output Shape              Param #   \n",
      "=================================================================\n",
      "conv2d_1 (Conv2D)            (None, 28, 22, 32)        896       \n",
      "_________________________________________________________________\n",
      "activation_1 (Activation)    (None, 28, 22, 32)        0         \n",
      "_________________________________________________________________\n",
      "conv2d_2 (Conv2D)            (None, 26, 20, 32)        9248      \n",
      "_________________________________________________________________\n",
      "activation_2 (Activation)    (None, 26, 20, 32)        0         \n",
      "_________________________________________________________________\n",
      "max_pooling2d_1 (MaxPooling2 (None, 13, 10, 32)        0         \n",
      "_________________________________________________________________\n",
      "dropout_1 (Dropout)          (None, 13, 10, 32)        0         \n",
      "_________________________________________________________________\n",
      "conv2d_3 (Conv2D)            (None, 13, 10, 64)        18496     \n",
      "_________________________________________________________________\n",
      "activation_3 (Activation)    (None, 13, 10, 64)        0         \n",
      "_________________________________________________________________\n",
      "conv2d_4 (Conv2D)            (None, 11, 8, 64)         36928     \n",
      "_________________________________________________________________\n",
      "activation_4 (Activation)    (None, 11, 8, 64)         0         \n",
      "_________________________________________________________________\n",
      "max_pooling2d_2 (MaxPooling2 (None, 5, 4, 64)          0         \n",
      "_________________________________________________________________\n",
      "dropout_2 (Dropout)          (None, 5, 4, 64)          0         \n",
      "_________________________________________________________________\n",
      "flatten_1 (Flatten)          (None, 1280)              0         \n",
      "_________________________________________________________________\n",
      "dense_1 (Dense)              (None, 512)               655872    \n",
      "_________________________________________________________________\n",
      "activation_5 (Activation)    (None, 512)               0         \n",
      "_________________________________________________________________\n",
      "dropout_3 (Dropout)          (None, 512)               0         \n",
      "_________________________________________________________________\n",
      "dense_2 (Dense)              (None, 10)                5130      \n",
      "_________________________________________________________________\n",
      "activation_6 (Activation)    (None, 10)                0         \n",
      "=================================================================\n",
      "Total params: 726,570\n",
      "Trainable params: 726,570\n",
      "Non-trainable params: 0\n",
      "_________________________________________________________________\n",
      "None\n"
     ]
    }
   ],
   "source": [
    "# if os.path.exists(fname_model) and os.path.exists(fname_weights):\n",
    "#     model = model_from_json(open(fname_model).read())\n",
    "#     model.load_weights(fname_weights)\n",
    "\n",
    "optimizer = SGD(lr=0.01, decay=1e-6, momentum=0.9, nesterov=True)\n",
    "model.compile(optimizer, loss='categorical_crossentropy', metrics=['accuracy'])\n",
    "\n",
    "print('Neural Network Model Summary: ')\n",
    "print(model.summary())\n"
   ]
  },
  {
   "cell_type": "code",
   "execution_count": 9,
   "metadata": {},
   "outputs": [
    {
     "name": "stdout",
     "output_type": "stream",
     "text": [
      "Train on 964 samples, validate on 242 samples\n",
      "Epoch 1/50\n",
      "964/964 [==============================] - 4s 5ms/step - loss: 2.3077 - accuracy: 0.1100 - val_loss: 2.3047 - val_accuracy: 0.0909\n",
      "Epoch 2/50\n",
      "964/964 [==============================] - 3s 3ms/step - loss: 2.2975 - accuracy: 0.1224 - val_loss: 2.3051 - val_accuracy: 0.0909\n",
      "Epoch 3/50\n",
      "964/964 [==============================] - 3s 3ms/step - loss: 2.2984 - accuracy: 0.1286 - val_loss: 2.3042 - val_accuracy: 0.0868\n",
      "Epoch 4/50\n",
      "964/964 [==============================] - 3s 3ms/step - loss: 2.2917 - accuracy: 0.1110 - val_loss: 2.3062 - val_accuracy: 0.0909\n",
      "Epoch 5/50\n",
      "964/964 [==============================] - 3s 3ms/step - loss: 2.2873 - accuracy: 0.1224 - val_loss: 2.2939 - val_accuracy: 0.0909\n",
      "Epoch 6/50\n",
      "964/964 [==============================] - 3s 3ms/step - loss: 2.2624 - accuracy: 0.1224 - val_loss: 2.2489 - val_accuracy: 0.1281\n",
      "Epoch 7/50\n",
      "964/964 [==============================] - 3s 3ms/step - loss: 2.1985 - accuracy: 0.1515 - val_loss: 2.1106 - val_accuracy: 0.2686\n",
      "Epoch 8/50\n",
      "964/964 [==============================] - 4s 4ms/step - loss: 2.0713 - accuracy: 0.2427 - val_loss: 2.1295 - val_accuracy: 0.2066\n",
      "Epoch 9/50\n",
      "964/964 [==============================] - 3s 3ms/step - loss: 1.8743 - accuracy: 0.3226 - val_loss: 1.6439 - val_accuracy: 0.5041\n",
      "Epoch 10/50\n",
      "964/964 [==============================] - 3s 3ms/step - loss: 1.7877 - accuracy: 0.3900 - val_loss: 1.6669 - val_accuracy: 0.5083\n",
      "Epoch 11/50\n",
      "964/964 [==============================] - 3s 3ms/step - loss: 1.3070 - accuracy: 0.5405 - val_loss: 1.1061 - val_accuracy: 0.5826\n",
      "Epoch 12/50\n",
      "964/964 [==============================] - 3s 3ms/step - loss: 0.7647 - accuracy: 0.7355 - val_loss: 0.5484 - val_accuracy: 0.8058\n",
      "Epoch 13/50\n",
      "964/964 [==============================] - 3s 3ms/step - loss: 0.4608 - accuracy: 0.8392 - val_loss: 0.3028 - val_accuracy: 0.9050\n",
      "Epoch 14/50\n",
      "964/964 [==============================] - 3s 4ms/step - loss: 0.2836 - accuracy: 0.9066 - val_loss: 0.4969 - val_accuracy: 0.8554\n",
      "Epoch 15/50\n",
      "964/964 [==============================] - 3s 3ms/step - loss: 0.1866 - accuracy: 0.9419 - val_loss: 0.1281 - val_accuracy: 0.9545\n",
      "Epoch 16/50\n",
      "964/964 [==============================] - 3s 3ms/step - loss: 0.2183 - accuracy: 0.9222 - val_loss: 0.0665 - val_accuracy: 0.9835\n",
      "Epoch 17/50\n",
      "964/964 [==============================] - 3s 3ms/step - loss: 0.1206 - accuracy: 0.9627 - val_loss: 0.0778 - val_accuracy: 0.9793\n",
      "Epoch 18/50\n",
      "964/964 [==============================] - 3s 3ms/step - loss: 0.0786 - accuracy: 0.9772 - val_loss: 0.0300 - val_accuracy: 0.9959\n",
      "Epoch 19/50\n",
      "964/964 [==============================] - 3s 3ms/step - loss: 0.1071 - accuracy: 0.9678 - val_loss: 2.6477 - val_accuracy: 0.4959\n",
      "Epoch 20/50\n",
      "964/964 [==============================] - 3s 3ms/step - loss: 0.3338 - accuracy: 0.9139 - val_loss: 0.0207 - val_accuracy: 0.9917\n",
      "Epoch 21/50\n",
      "964/964 [==============================] - 3s 3ms/step - loss: 0.0521 - accuracy: 0.9834 - val_loss: 0.0310 - val_accuracy: 0.9959\n",
      "Epoch 22/50\n",
      "964/964 [==============================] - 3s 3ms/step - loss: 0.0428 - accuracy: 0.9865 - val_loss: 0.0345 - val_accuracy: 0.9917\n",
      "Epoch 23/50\n",
      "964/964 [==============================] - 3s 3ms/step - loss: 0.0537 - accuracy: 0.9844 - val_loss: 0.0070 - val_accuracy: 1.0000\n",
      "Epoch 24/50\n",
      "964/964 [==============================] - 3s 3ms/step - loss: 0.0463 - accuracy: 0.9876 - val_loss: 0.0313 - val_accuracy: 0.9959\n",
      "Epoch 25/50\n",
      "964/964 [==============================] - 3s 3ms/step - loss: 0.0433 - accuracy: 0.9834 - val_loss: 0.0129 - val_accuracy: 0.9959\n",
      "Epoch 26/50\n",
      "964/964 [==============================] - 3s 3ms/step - loss: 0.0238 - accuracy: 0.9927 - val_loss: 0.0077 - val_accuracy: 0.9959\n",
      "Epoch 27/50\n",
      "964/964 [==============================] - 3s 3ms/step - loss: 0.0161 - accuracy: 0.9938 - val_loss: 0.0092 - val_accuracy: 0.9959\n",
      "Epoch 28/50\n",
      "964/964 [==============================] - 3s 3ms/step - loss: 0.0427 - accuracy: 0.9876 - val_loss: 0.0563 - val_accuracy: 0.9835\n",
      "Epoch 29/50\n",
      "964/964 [==============================] - 3s 4ms/step - loss: 0.0332 - accuracy: 0.9917 - val_loss: 0.0020 - val_accuracy: 1.0000\n",
      "Epoch 30/50\n",
      "964/964 [==============================] - 3s 3ms/step - loss: 0.0189 - accuracy: 0.9948 - val_loss: 0.0047 - val_accuracy: 1.0000\n",
      "Epoch 31/50\n",
      "964/964 [==============================] - 3s 3ms/step - loss: 0.0100 - accuracy: 0.9969 - val_loss: 0.0058 - val_accuracy: 0.9959\n",
      "Epoch 32/50\n",
      "964/964 [==============================] - 3s 3ms/step - loss: 0.0103 - accuracy: 0.9948 - val_loss: 8.9479e-04 - val_accuracy: 1.0000\n",
      "Epoch 33/50\n",
      "964/964 [==============================] - 3s 3ms/step - loss: 0.0172 - accuracy: 0.9948 - val_loss: 0.0117 - val_accuracy: 0.9959\n",
      "Epoch 34/50\n",
      "964/964 [==============================] - 3s 3ms/step - loss: 0.0132 - accuracy: 0.9959 - val_loss: 0.0019 - val_accuracy: 1.0000\n",
      "Epoch 35/50\n",
      "964/964 [==============================] - 3s 3ms/step - loss: 0.0296 - accuracy: 0.9896 - val_loss: 0.0063 - val_accuracy: 0.9959\n",
      "Epoch 36/50\n",
      "964/964 [==============================] - 3s 3ms/step - loss: 0.0091 - accuracy: 0.9979 - val_loss: 0.0047 - val_accuracy: 0.9959\n",
      "Epoch 37/50\n",
      "964/964 [==============================] - 3s 3ms/step - loss: 0.0043 - accuracy: 1.0000 - val_loss: 0.0119 - val_accuracy: 0.9959\n",
      "Epoch 38/50\n",
      "964/964 [==============================] - 3s 3ms/step - loss: 0.0117 - accuracy: 0.9938 - val_loss: 0.0360 - val_accuracy: 0.9959\n",
      "Epoch 39/50\n",
      "964/964 [==============================] - 3s 3ms/step - loss: 0.0325 - accuracy: 0.9865 - val_loss: 0.0139 - val_accuracy: 0.9917\n",
      "Epoch 40/50\n",
      "964/964 [==============================] - 3s 3ms/step - loss: 0.0182 - accuracy: 0.9896 - val_loss: 0.0024 - val_accuracy: 1.0000\n",
      "Epoch 41/50\n",
      "964/964 [==============================] - 3s 3ms/step - loss: 0.0341 - accuracy: 0.9917 - val_loss: 0.0046 - val_accuracy: 0.9959\n",
      "Epoch 42/50\n",
      "964/964 [==============================] - 3s 3ms/step - loss: 0.0291 - accuracy: 0.9917 - val_loss: 9.9793e-04 - val_accuracy: 1.0000\n",
      "Epoch 43/50\n",
      "964/964 [==============================] - 3s 3ms/step - loss: 0.0205 - accuracy: 0.9938 - val_loss: 8.4552e-04 - val_accuracy: 1.0000\n",
      "Epoch 44/50\n",
      "964/964 [==============================] - 4s 4ms/step - loss: 0.0198 - accuracy: 0.9948 - val_loss: 0.0017 - val_accuracy: 1.0000\n",
      "Epoch 45/50\n",
      "964/964 [==============================] - 3s 3ms/step - loss: 0.0051 - accuracy: 1.0000 - val_loss: 7.7041e-04 - val_accuracy: 1.0000\n",
      "Epoch 46/50\n",
      "964/964 [==============================] - 3s 3ms/step - loss: 0.0081 - accuracy: 0.9990 - val_loss: 4.8219e-04 - val_accuracy: 1.0000\n",
      "Epoch 47/50\n",
      "964/964 [==============================] - 3s 3ms/step - loss: 0.0059 - accuracy: 0.9990 - val_loss: 4.9273e-04 - val_accuracy: 1.0000\n",
      "Epoch 48/50\n",
      "964/964 [==============================] - 3s 3ms/step - loss: 0.0078 - accuracy: 0.9979 - val_loss: 5.7719e-04 - val_accuracy: 1.0000\n",
      "Epoch 49/50\n",
      "964/964 [==============================] - 3s 3ms/step - loss: 0.0027 - accuracy: 1.0000 - val_loss: 1.6517e-04 - val_accuracy: 1.0000\n",
      "Epoch 50/50\n",
      "964/964 [==============================] - 3s 3ms/step - loss: 0.0023 - accuracy: 1.0000 - val_loss: 1.8389e-04 - val_accuracy: 1.0000\n"
     ]
    },
    {
     "data": {
      "text/plain": [
       "<keras.callbacks.callbacks.History at 0x7f625c3befd0>"
      ]
     },
     "execution_count": 9,
     "metadata": {},
     "output_type": "execute_result"
    }
   ],
   "source": [
    "model.fit(X_train, Y_train,\n",
    "              batch_size=batch_size,\n",
    "              epochs=nb_epoch,\n",
    "              validation_data=(X_test, Y_test),\n",
    "              shuffle=True)"
   ]
  },
  {
   "cell_type": "code",
   "execution_count": 14,
   "metadata": {},
   "outputs": [
    {
     "name": "stdout",
     "output_type": "stream",
     "text": [
      "Test score: 0.00018389043318226063\n",
      "Test accuracy: 1.0\n"
     ]
    }
   ],
   "source": [
    "score = model.evaluate(X_test, Y_test, verbose=0)\n",
    "print('Test score:', score[0])\n",
    "print('Test accuracy:', score[1])"
   ]
  },
  {
   "cell_type": "code",
   "execution_count": 16,
   "metadata": {},
   "outputs": [],
   "source": [
    "json_string = model.to_json()\n",
    "open(fname_model, 'w').write(json_string)\n",
    "model.save_weights(fname_weights)"
   ]
  }
 ],
 "metadata": {
  "kernelspec": {
   "display_name": "Python 3",
   "language": "python",
   "name": "python3"
  },
  "language_info": {
   "codemirror_mode": {
    "name": "ipython",
    "version": 3
   },
   "file_extension": ".py",
   "mimetype": "text/x-python",
   "name": "python",
   "nbconvert_exporter": "python",
   "pygments_lexer": "ipython3",
   "version": "3.6.7"
  }
 },
 "nbformat": 4,
 "nbformat_minor": 2
}
