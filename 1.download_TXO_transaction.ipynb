{
 "cells": [
  {
   "cell_type": "code",
   "execution_count": 3,
   "metadata": {},
   "outputs": [],
   "source": [
    "%reload_ext autoreload"
   ]
  },
  {
   "cell_type": "code",
   "execution_count": 4,
   "metadata": {},
   "outputs": [],
   "source": [
    "%matplotlib inline"
   ]
  },
  {
   "cell_type": "code",
   "execution_count": 5,
   "metadata": {},
   "outputs": [],
   "source": [
    "import os\n",
    "import matplotlib.pylab as plt\n",
    "import imageio\n",
    "from PIL import Image \n",
    "import numpy as np\n",
    "from tqdm import tqdm\n",
    "import time"
   ]
  },
  {
   "cell_type": "code",
   "execution_count": 6,
   "metadata": {},
   "outputs": [],
   "source": [
    "import config as cfg\n",
    "from captcha_predict import captcha_rec"
   ]
  },
  {
   "cell_type": "code",
   "execution_count": 7,
   "metadata": {},
   "outputs": [],
   "source": [
    "from pyvirtualdisplay import Display"
   ]
  },
  {
   "cell_type": "code",
   "execution_count": 8,
   "metadata": {},
   "outputs": [],
   "source": [
    "from selenium import webdriver\n",
    "from selenium.webdriver.support.ui import Select\n",
    "from selenium.common.exceptions import StaleElementReferenceException, UnexpectedAlertPresentException, NoSuchElementException"
   ]
  },
  {
   "cell_type": "code",
   "execution_count": 9,
   "metadata": {},
   "outputs": [],
   "source": [
    "# reference: http://allselenium.info/capture-screenshot-element-using-python-selenium-webdriver/\n",
    "def get_capture_img(driver, debug=False):\n",
    "    # save screenshot\n",
    "    fname = cfg.PATH_TMP_SCREENSHOT\n",
    "    if os.path.exists(fname):\n",
    "        os.remove(fname)\n",
    "    driver.save_screenshot(fname)\n",
    "    \n",
    "    # get location of captcha img\n",
    "    element = driver.find_element_by_id(\"captchaImg\")\n",
    "    location = element.location\n",
    "    size = element.size\n",
    "    \n",
    "    original_size = driver.get_window_size()\n",
    "    screenshot_size = imageio.imread(fname).shape\n",
    "    if debug:\n",
    "        print(f'size of Chrome: {original_size}')\n",
    "        print(f'size of screeenshot: ({screenshot_size[1]},{screenshot_size[0]},{screenshot_size[2]})')    \n",
    "        print(f'location: {location}')\n",
    "        print(f'size: {size}')\n",
    "    \n",
    "    x, y = location['x'], location['y']\n",
    "    x_end, y_end = x + size['width'], y + size['height']\n",
    "\n",
    "    img = Image.open(fname)\n",
    "    img_captcha = img.crop((int(x), int(y), int(x_end), int(y_end)))\n",
    "    return np.array(img_captcha)[:,:,:3]\n",
    "\n",
    "def collect_captcha_img(n=10):\n",
    "    with webdriver.Chrome(executable_path = cfg.PATH_CHROME_DRIVER, options=cfg.OPTIONS_CHROME) as driver:\n",
    "        for i in tqdm(range(n)):\n",
    "            driver.get(cfg.URL_TARGET)\n",
    "\n",
    "            img_captcha = get_capture_img(driver)\n",
    "            plt.imshow(img_captcha)\n",
    "            plt.show()\n",
    "\n",
    "            captcha = input('Please enter 6-digit numbers in the captcha:')\n",
    "            print(captcha)\n",
    "\n",
    "            imageio.imwrite(f'{cfg.PATH_IMG}/{captcha}.png', img_captcha)"
   ]
  },
  {
   "cell_type": "code",
   "execution_count": 10,
   "metadata": {},
   "outputs": [],
   "source": [
    "# collect_captcha_img(2)"
   ]
  },
  {
   "cell_type": "code",
   "execution_count": 11,
   "metadata": {},
   "outputs": [],
   "source": [
    "def try_until_success(func):\n",
    "    def wrapped_func(*args, **kwargs):    \n",
    "        MAX_FAIL = 10\n",
    "        n_fail = 0\n",
    "        \n",
    "        def print_fail_msg():\n",
    "            print(f'The {n_fail}-th failure: {args}')\n",
    "            time.sleep(1)\n",
    "            \n",
    "        while n_fail < MAX_FAIL:\n",
    "            try:\n",
    "                func(*args, **kwargs)\n",
    "                print(f'Success: {args}')\n",
    "                break\n",
    "            except StaleElementReferenceException:\n",
    "                print_fail_msg()\n",
    "            except NoSuchElementException:\n",
    "                print_fail_msg()\n",
    "            except UnexpectedAlertPresentException:\n",
    "                print_fail_msg()\n",
    "            n_fail+=1\n",
    "    return wrapped_func\n",
    "\n",
    "def get_expected_filename(driver, form_values):\n",
    "    form_values = dict(form_values)\n",
    "    filename = 'AH_' if form_values['MarketCode'] == '1' else ''\n",
    "    date_id = 'queryDateAh' if form_values['MarketCode'] == '1' else 'queryDate'\n",
    "    date_download = driver.find_element_by_xpath(f\"//input[@id='{date_id}']\").get_attribute('value')\n",
    "    filename += f'{date_download}_{form_values[\"commodity_idt\"]}_{form_values[\"settlemon\"]}_{form_values[\"pccode\"]}.csv'\n",
    "    return filename\n",
    "\n",
    "@try_until_success\n",
    "def select_option_by_id(driver, id_select, option):\n",
    "    Select(driver.find_element_by_id(id_select)).select_by_value(option)\n",
    "    \n",
    "@try_until_success\n",
    "def download_daily_option_transaction(driver, form_values, debug=False):\n",
    "    driver.get(cfg.URL_TARGET)\n",
    "    \n",
    "    # submit form\n",
    "    img_captcha = get_capture_img(driver)\n",
    "    captcha = captcha_rec.captcha_predict(captcha_rec.preprocess(img_captcha))\n",
    "    \n",
    "    for select_id, option_value in form_values:\n",
    "        select_option_by_id(driver, select_id, option_value)\n",
    "    driver.find_element_by_id('captcha').send_keys(captcha)\n",
    "    \n",
    "    submit = driver.find_element_by_xpath(\"//form[@id='uForm']//input[@id='button'][1]\")\n",
    "    submit.click()\n",
    "    \n",
    "    # download\n",
    "    expected_fname = cfg.PATH_OUTPUT + '/' + get_expected_filename(driver, form_values)\n",
    "    if os.path.exists(expected_fname):\n",
    "        os.remove(expected_fname)\n",
    "    download = driver.find_element_by_xpath(\"//form[@id='uForm']//input[@id='button'][2]\")\n",
    "    download.click()\n",
    "    time.sleep(10)\n",
    "    \n",
    "    # TODO:if switch to TGO, then data may be empty and therefore the infinite while loop will be endles\n",
    "    i = 0\n",
    "    while not os.path.exists(expected_fname):\n",
    "        time.sleep(3)\n",
    "        print(f'Downloading... Not yet found {expected_fname} ')\n",
    "        i+=1\n",
    "        if i > 10:\n",
    "            break\n",
    "    if debug:\n",
    "        print('finish downloading option transaction data')\n",
    "    \n",
    "    # save correct captcha images\n",
    "    imageio.imwrite(f'{cfg.PATH_IMG}/{captcha}.png', img_captcha)\n",
    "    if debug:\n",
    "        print('saved captcha image')\n",
    "\n"
   ]
  },
  {
   "cell_type": "code",
   "execution_count": 12,
   "metadata": {},
   "outputs": [],
   "source": [
    "# get all form values\n",
    "def get_settlemons(driver, commodity_idt):\n",
    "    def get_random_settlemon(driver):\n",
    "        date0 = driver.find_element_by_xpath(f\"//input[@id='queryDate']\").get_attribute('value')\n",
    "        date1 = driver.find_element_by_xpath(f\"//input[@id='queryDateAh']\").get_attribute('value')\n",
    "        date = max(date0, date1)\n",
    "        return str(int(date[:6]) + 1)\n",
    "    \n",
    "    form = (\n",
    "        ('MarketCode', '0'),\n",
    "        ('commodity_idt', commodity_idt),\n",
    "        ('settlemon', get_random_settlemon(driver)),\n",
    "    )\n",
    "    \n",
    "    for select_id, option_value in form:\n",
    "        select_option_by_id(driver, select_id, option_value)\n",
    "    values = [ elem.get_attribute('value') for elem in driver.find_elements_by_xpath(\"//select[@id='settlemon']/option\")]\n",
    "    return [val for val in values if val != '']\n",
    "\n",
    "# def get_commodity_ids(driver):# TODO: STO\n",
    "#     random_commodity_idt = 'TXO'\n",
    "#     form = {\n",
    "#         'MarketCode': '0',\n",
    "#         'commodity_idt': random_commodity_idt,\n",
    "#     }\n",
    "#     for select_id, option_value in form.items():\n",
    "#         select_option_by_id(driver, select_id, option_value)\n",
    "#     values = [ elem.get_attribute('value') for elem in driver.find_elements_by_xpath(\"//select[@id='commodity_idt']/option\")]\n",
    "#     return [val for val in values if val != '']\n",
    "\n",
    "def get_all_forms(driver):\n",
    "    driver.get(cfg.URL_TARGET)\n",
    "    form = {\n",
    "        'commodity_idt': 'TXO', #TODO: get_commodity_ids(driver)\n",
    "    }\n",
    "\n",
    "    marketcodes = ['0', '1']\n",
    "    settlemons = get_settlemons(driver, commodity_idt=form['commodity_idt'])\n",
    "    settlemons.sort(reverse=True) # in order to download monthly option first then weekly\n",
    "    pccodes = ['C', 'P']\n",
    "    forms = [\n",
    "        (\n",
    "            ('MarketCode', marketcode),\n",
    "            ('commodity_idt', form['commodity_idt']),\n",
    "            ('settlemon', settlemon),\n",
    "            ('pccode', pccode),\n",
    "        ) \n",
    "        for marketcode in marketcodes\n",
    "        for settlemon in settlemons \n",
    "        for pccode in pccodes\n",
    "    ]\n",
    "    return forms"
   ]
  },
  {
   "cell_type": "code",
   "execution_count": 2,
   "metadata": {},
   "outputs": [
    {
     "ename": "NameError",
     "evalue": "name 'Display' is not defined",
     "output_type": "error",
     "traceback": [
      "\u001b[0;31m---------------------------------------------------------------------------\u001b[0m",
      "\u001b[0;31mNameError\u001b[0m                                 Traceback (most recent call last)",
      "\u001b[0;32m<ipython-input-2-73b03986f3d3>\u001b[0m in \u001b[0;36m<module>\u001b[0;34m()\u001b[0m\n\u001b[0;32m----> 1\u001b[0;31m \u001b[0mdisplay\u001b[0m \u001b[0;34m=\u001b[0m \u001b[0mDisplay\u001b[0m\u001b[0;34m(\u001b[0m\u001b[0mvisible\u001b[0m\u001b[0;34m=\u001b[0m\u001b[0;36m0\u001b[0m\u001b[0;34m,\u001b[0m \u001b[0msize\u001b[0m\u001b[0;34m=\u001b[0m\u001b[0;34m(\u001b[0m\u001b[0mcfg\u001b[0m\u001b[0;34m.\u001b[0m\u001b[0mWIDTH_CHROME\u001b[0m\u001b[0;34m+\u001b[0m\u001b[0;36m20\u001b[0m\u001b[0;34m,\u001b[0m \u001b[0mcfg\u001b[0m\u001b[0;34m.\u001b[0m\u001b[0mHEIGHT_CHROME\u001b[0m\u001b[0;34m+\u001b[0m\u001b[0;36m20\u001b[0m\u001b[0;34m)\u001b[0m\u001b[0;34m)\u001b[0m \u001b[0;31m# for some reason, the size of display will be 20 less. To compensate it, we add 20 back\u001b[0m\u001b[0;34m\u001b[0m\u001b[0;34m\u001b[0m\u001b[0m\n\u001b[0m\u001b[1;32m      2\u001b[0m \u001b[0mdisplay\u001b[0m\u001b[0;34m.\u001b[0m\u001b[0mstart\u001b[0m\u001b[0;34m(\u001b[0m\u001b[0;34m)\u001b[0m\u001b[0;34m\u001b[0m\u001b[0;34m\u001b[0m\u001b[0m\n\u001b[1;32m      3\u001b[0m \u001b[0;34m\u001b[0m\u001b[0m\n\u001b[1;32m      4\u001b[0m \u001b[0;32mwith\u001b[0m \u001b[0mwebdriver\u001b[0m\u001b[0;34m.\u001b[0m\u001b[0mChrome\u001b[0m\u001b[0;34m(\u001b[0m\u001b[0mexecutable_path\u001b[0m \u001b[0;34m=\u001b[0m \u001b[0mcfg\u001b[0m\u001b[0;34m.\u001b[0m\u001b[0mPATH_CHROME_DRIVER\u001b[0m\u001b[0;34m,\u001b[0m \u001b[0moptions\u001b[0m\u001b[0;34m=\u001b[0m\u001b[0mcfg\u001b[0m\u001b[0;34m.\u001b[0m\u001b[0mOPTIONS_CHROME\u001b[0m\u001b[0;34m)\u001b[0m \u001b[0;32mas\u001b[0m \u001b[0mdriver\u001b[0m\u001b[0;34m:\u001b[0m\u001b[0;34m\u001b[0m\u001b[0;34m\u001b[0m\u001b[0m\n\u001b[1;32m      5\u001b[0m     \u001b[0mdriver\u001b[0m\u001b[0;34m.\u001b[0m\u001b[0mget\u001b[0m\u001b[0;34m(\u001b[0m\u001b[0mcfg\u001b[0m\u001b[0;34m.\u001b[0m\u001b[0mURL_TARGET\u001b[0m\u001b[0;34m)\u001b[0m\u001b[0;34m\u001b[0m\u001b[0;34m\u001b[0m\u001b[0m\n",
      "\u001b[0;31mNameError\u001b[0m: name 'Display' is not defined"
     ]
    }
   ],
   "source": [
    "display = Display(visible=0, size=(cfg.WIDTH_CHROME+20, cfg.HEIGHT_CHROME+20)) # for some reason, the size of display will be 20 less. To compensate it, we add 20 back\n",
    "display.start() \n",
    "\n",
    "with webdriver.Chrome(executable_path = cfg.PATH_CHROME_DRIVER, options=cfg.OPTIONS_CHROME) as driver:\n",
    "    forms = get_all_forms(driver)\n",
    "    for form in tqdm(forms):\n",
    "        download_daily_option_transaction(driver, form, debug=True)"
   ]
  },
  {
   "cell_type": "code",
   "execution_count": null,
   "metadata": {},
   "outputs": [],
   "source": []
  },
  {
   "cell_type": "code",
   "execution_count": null,
   "metadata": {},
   "outputs": [],
   "source": []
  }
 ],
 "metadata": {
  "kernelspec": {
   "display_name": "Python 3",
   "language": "python",
   "name": "python3"
  },
  "language_info": {
   "codemirror_mode": {
    "name": "ipython",
    "version": 3
   },
   "file_extension": ".py",
   "mimetype": "text/x-python",
   "name": "python",
   "nbconvert_exporter": "python",
   "pygments_lexer": "ipython3",
   "version": "3.6.7"
  }
 },
 "nbformat": 4,
 "nbformat_minor": 4
}
